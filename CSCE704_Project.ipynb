{
  "nbformat": 4,
  "nbformat_minor": 0,
  "metadata": {
    "colab": {
      "name": "Daddy.ipynb",
      "provenance": [],
      "collapsed_sections": []
    },
    "kernelspec": {
      "display_name": "Python 3",
      "name": "python3"
    },
    "language_info": {
      "name": "python"
    }
  },
  "cells": [
    {
      "cell_type": "code",
      "metadata": {
        "colab": {
          "base_uri": "https://localhost:8080/"
        },
        "id": "aC4cM4T22UkZ",
        "outputId": "6a8df415-cb09-4f24-dc4b-19a3e3f1cd70"
      },
      "source": [
        "from google.colab import drive\n",
        "drive.mount('/content/drive')"
      ],
      "execution_count": 1,
      "outputs": [
        {
          "output_type": "stream",
          "name": "stdout",
          "text": [
            "Mounted at /content/drive\n"
          ]
        }
      ]
    },
    {
      "cell_type": "code",
      "metadata": {
        "id": "qb9-ON7c004P"
      },
      "source": [
        "from sklearn.svm import SVC\n",
        "from sklearn.ensemble import RandomForestClassifier\n",
        "from sklearn.metrics import accuracy_score\n",
        "from sklearn.feature_extraction.text import TfidfVectorizer,CountVectorizer\n",
        "from sklearn import metrics\n",
        "from sklearn.metrics import confusion_matrix, classification_report\n",
        "from sklearn.model_selection import train_test_split\n",
        "from sklearn.cluster import KMeans\n",
        "from sklearn import svm\n",
        "import pandas as pd\n",
        "import numpy as np\n",
        "import random"
      ],
      "execution_count": 2,
      "outputs": []
    },
    {
      "cell_type": "code",
      "metadata": {
        "id": "KlWUi6ef1Nl4"
      },
      "source": [
        "real_fake_file_name=\"/content/drive/Shareddrives/CSCE_704_Project/fake_or_real_news.csv\"\n",
        "fake_file_name=\"/content/drive/Shareddrives/CSCE_704_Project/Fake.csv\"\n",
        "real_file_name=\"/content/drive/Shareddrives/CSCE_704_Project/True.csv\"\n",
        "\n",
        "import csv\n",
        "dataset=[]\n",
        "\n",
        "titles=[]\n",
        "text=[]\n",
        "labels=[]\n",
        "\n",
        "with open(real_fake_file_name) as file:\n",
        "  csvreader = csv.reader(file)\n",
        "  header = next(csvreader)\n",
        "  rows = []\n",
        "  for row in csvreader:\n",
        "    titles.append(row[1])\n",
        "    text.append(row[2])\n",
        "    labels.append(row[3])\n",
        "\n",
        "with open(fake_file_name) as file:\n",
        "  csvreader = csv.reader(file)\n",
        "  header = next(csvreader)\n",
        "  rows = []\n",
        "  for row in csvreader:\n",
        "    titles.append(row[0])\n",
        "    text.append(row[1])\n",
        "    labels.append(\"FAKE\")\n",
        "\n",
        "with open(real_file_name) as file:\n",
        "  csvreader = csv.reader(file)\n",
        "  header = next(csvreader)\n",
        "  rows = []\n",
        "  for row in csvreader:\n",
        "    titles.append(row[0])\n",
        "    text.append(row[1])\n",
        "    labels.append(\"REAL\")\n",
        "\n",
        "dataset.append(titles)\n",
        "dataset.append(text)\n",
        "dataset.append(labels)"
      ],
      "execution_count": 3,
      "outputs": []
    },
    {
      "cell_type": "code",
      "metadata": {
        "id": "qVd7ITLX1OWy"
      },
      "source": [
        "# Vect and split\n",
        "\n",
        "all_text_vectorizer = TfidfVectorizer(stop_words='english')\n",
        "all_text_vectorized = all_text_vectorizer.fit_transform(dataset[1])\n",
        "\n",
        "master_data_train, master_data_test, master_labels_train, master_labels_test = train_test_split(all_text_vectorized, dataset[2], test_size=0.6, random_state = 30)\n",
        "\n",
        "nn_data_train = master_data_test[:25000]\n",
        "nn_data_test = master_data_test[25000:]\n",
        "\n",
        "final_labels_train_tf =  master_labels_test[:25000]\n",
        "final_labels_test_tf =  master_labels_test[25000:]"
      ],
      "execution_count": 4,
      "outputs": []
    },
    {
      "cell_type": "code",
      "metadata": {
        "colab": {
          "base_uri": "https://localhost:8080/"
        },
        "id": "svsx7c-5nm0i",
        "outputId": "b951c17d-886b-4ac9-d868-640604487432"
      },
      "source": [
        "print(master_data_train.size, master_data_test.size)"
      ],
      "execution_count": 5,
      "outputs": [
        {
          "output_type": "stream",
          "name": "stdout",
          "text": [
            "3430571 5115737\n"
          ]
        }
      ]
    },
    {
      "cell_type": "code",
      "metadata": {
        "colab": {
          "base_uri": "https://localhost:8080/"
        },
        "id": "jt7-Lv3d1Rmf",
        "outputId": "086c6c96-52ec-4265-9601-39c6e179499d"
      },
      "source": [
        "model_svc = SVC(kernel='linear')\n",
        "model_svc.fit(master_data_train, master_labels_train)"
      ],
      "execution_count": 6,
      "outputs": [
        {
          "output_type": "execute_result",
          "data": {
            "text/plain": [
              "SVC(kernel='linear')"
            ]
          },
          "metadata": {},
          "execution_count": 6
        }
      ]
    },
    {
      "cell_type": "code",
      "metadata": {
        "id": "MBJhUWe51XNF"
      },
      "source": [
        "pred_svc = model_svc.predict(master_data_test)"
      ],
      "execution_count": 7,
      "outputs": []
    },
    {
      "cell_type": "code",
      "metadata": {
        "colab": {
          "base_uri": "https://localhost:8080/"
        },
        "id": "Rj7dCi3l1cjI",
        "outputId": "422d6bb1-3158-4079-d393-2edb0378dada"
      },
      "source": [
        "print(classification_report(master_labels_test, pred_svc))"
      ],
      "execution_count": 8,
      "outputs": [
        {
          "output_type": "stream",
          "name": "stdout",
          "text": [
            "              precision    recall  f1-score   support\n",
            "\n",
            "        FAKE       0.96      0.97      0.97     15945\n",
            "        REAL       0.97      0.96      0.96     14795\n",
            "\n",
            "    accuracy                           0.97     30740\n",
            "   macro avg       0.97      0.97      0.97     30740\n",
            "weighted avg       0.97      0.97      0.97     30740\n",
            "\n"
          ]
        }
      ]
    },
    {
      "cell_type": "code",
      "metadata": {
        "colab": {
          "base_uri": "https://localhost:8080/"
        },
        "id": "eVLxrAKI1fId",
        "outputId": "384dfa4c-3cdf-4872-e8a9-7b741630dcd0"
      },
      "source": [
        "model_rfc = RandomForestClassifier(n_estimators=200, max_depth=500)\n",
        "model_rfc.fit(master_data_train, master_labels_train)"
      ],
      "execution_count": 9,
      "outputs": [
        {
          "output_type": "execute_result",
          "data": {
            "text/plain": [
              "RandomForestClassifier(max_depth=500, n_estimators=200)"
            ]
          },
          "metadata": {},
          "execution_count": 9
        }
      ]
    },
    {
      "cell_type": "code",
      "metadata": {
        "id": "eLfc82x91hmJ"
      },
      "source": [
        "pred_rfc = model_rfc.predict(master_data_test)"
      ],
      "execution_count": 10,
      "outputs": []
    },
    {
      "cell_type": "code",
      "metadata": {
        "id": "ZSwNzPvg1j_G",
        "colab": {
          "base_uri": "https://localhost:8080/"
        },
        "outputId": "8545a761-7ce5-437c-dfc0-011e2870912b"
      },
      "source": [
        "print(classification_report(master_labels_test, pred_rfc))"
      ],
      "execution_count": 11,
      "outputs": [
        {
          "output_type": "stream",
          "name": "stdout",
          "text": [
            "              precision    recall  f1-score   support\n",
            "\n",
            "        FAKE       0.94      0.97      0.95     15945\n",
            "        REAL       0.96      0.94      0.95     14795\n",
            "\n",
            "    accuracy                           0.95     30740\n",
            "   macro avg       0.95      0.95      0.95     30740\n",
            "weighted avg       0.95      0.95      0.95     30740\n",
            "\n"
          ]
        }
      ]
    },
    {
      "cell_type": "code",
      "metadata": {
        "id": "AG204q181mP_"
      },
      "source": [
        "nn_labels_train = []\n",
        "for rfc_pred,svc_pred, true_label in zip(pred_rfc[0:25000],pred_svc[0:25000], final_labels_train_tf):\n",
        "  # rfc_pred = model_rfc.predict(test_data_point)\n",
        "  # svc_pred = model_svc.predict(test_data_point)\n",
        "\n",
        "  if rfc_pred == true_label and svc_pred == true_label:\n",
        "    b = random.randint(0, 1)\n",
        "    nn_labels_train.append(b)\n",
        "  elif rfc_pred == true_label and svc_pred != true_label:\n",
        "    nn_labels_train.append(0)\n",
        "  elif rfc_pred != true_label and svc_pred == true_label:\n",
        "    nn_labels_train.append(1)\n",
        "  else:\n",
        "    b = random.randint(0, 1)\n",
        "    nn_labels_train.append(b)"
      ],
      "execution_count": 12,
      "outputs": []
    },
    {
      "cell_type": "code",
      "metadata": {
        "id": "03DRd6CR1sTT"
      },
      "source": [
        "from sklearn.neural_network import MLPClassifier\n",
        "model_nn1 = MLPClassifier(solver='lbfgs', alpha=1e-5, hidden_layer_sizes=(100, 25, 25), random_state=1, max_iter=700)"
      ],
      "execution_count": 13,
      "outputs": []
    },
    {
      "cell_type": "code",
      "metadata": {
        "id": "h_JSa6sI1vBQ",
        "colab": {
          "base_uri": "https://localhost:8080/"
        },
        "outputId": "83a85c06-e466-4961-b9e9-575f5ec52d7b"
      },
      "source": [
        "model_nn1.fit(nn_data_train, nn_labels_train)"
      ],
      "execution_count": 14,
      "outputs": [
        {
          "output_type": "stream",
          "name": "stderr",
          "text": [
            "/usr/local/lib/python3.7/dist-packages/sklearn/neural_network/_multilayer_perceptron.py:549: ConvergenceWarning: lbfgs failed to converge (status=1):\n",
            "STOP: TOTAL NO. of ITERATIONS REACHED LIMIT.\n",
            "\n",
            "Increase the number of iterations (max_iter) or scale the data as shown in:\n",
            "    https://scikit-learn.org/stable/modules/preprocessing.html\n",
            "  self.n_iter_ = _check_optimize_result(\"lbfgs\", opt_res, self.max_iter)\n"
          ]
        },
        {
          "output_type": "execute_result",
          "data": {
            "text/plain": [
              "MLPClassifier(alpha=1e-05, hidden_layer_sizes=(100, 25, 25), max_iter=700,\n",
              "              random_state=1, solver='lbfgs')"
            ]
          },
          "metadata": {},
          "execution_count": 14
        }
      ]
    },
    {
      "cell_type": "code",
      "metadata": {
        "id": "zvc2SuWu1w3c"
      },
      "source": [
        "nn_preds = model_nn1.predict(nn_data_test)"
      ],
      "execution_count": 15,
      "outputs": []
    },
    {
      "cell_type": "code",
      "metadata": {
        "id": "iBKm1abE12Ow"
      },
      "source": [
        "final_preds= []\n",
        "for each_nn_prediction, final_test_data in zip(nn_preds,nn_data_test):\n",
        "  if each_nn_prediction == 0:\n",
        "    pred = model_rfc.predict(final_test_data)\n",
        "    final_preds.append(pred)\n",
        "  else:\n",
        "    pred = model_svc.predict(final_test_data)\n",
        "    final_preds.append(pred)"
      ],
      "execution_count": 16,
      "outputs": []
    },
    {
      "cell_type": "code",
      "metadata": {
        "id": "13qpItps14E7",
        "colab": {
          "base_uri": "https://localhost:8080/"
        },
        "outputId": "82c165a1-c496-4fdf-c155-87161ad3f5c1"
      },
      "source": [
        "print(classification_report(final_labels_test_tf,final_preds))"
      ],
      "execution_count": 17,
      "outputs": [
        {
          "output_type": "stream",
          "name": "stdout",
          "text": [
            "              precision    recall  f1-score   support\n",
            "\n",
            "        FAKE       0.95      0.97      0.96      2939\n",
            "        REAL       0.97      0.94      0.96      2801\n",
            "\n",
            "    accuracy                           0.96      5740\n",
            "   macro avg       0.96      0.96      0.96      5740\n",
            "weighted avg       0.96      0.96      0.96      5740\n",
            "\n"
          ]
        }
      ]
    },
    {
      "cell_type": "code",
      "metadata": {
        "colab": {
          "base_uri": "https://localhost:8080/"
        },
        "id": "EwRTaDgtmXcY",
        "outputId": "fd598e11-b25e-4a9e-e6fa-070a767df5ac"
      },
      "source": [
        "count_rfc = 0\n",
        "count_nn = 0\n",
        "count_svc = 0\n",
        "for i in range(5740):\n",
        "  if pred_rfc[i+len(pred_rfc) - 5740] == final_labels_test_tf[i] and pred_svc[i+len(pred_svc)-5740] != final_labels_test_tf[i]:\n",
        "    count_rfc+=1\n",
        "    if final_preds[i]!=final_labels_test_tf[i]:\n",
        "      count_nn+=1\n",
        "  if pred_rfc[i+len(pred_rfc) - 5740]!= final_labels_test_tf[i] and pred_svc[i+len(pred_svc) - 5740] == final_labels_test_tf[i]:\n",
        "    count_svc+=1\n",
        "    if final_preds[i]!=final_labels_test_tf[i]:\n",
        "      count_nn+=1\n",
        "\n",
        "print(\"Mis-classified by RFC: \", count_svc)\n",
        "print(\"Mis-classified by SVC: \", count_rfc)\n",
        "print(\"Mis-classification by RFC/SVC: \", count_rfc + count_svc)\n",
        "rfc_svc_misclassification = count_rfc + count_svc\n",
        "print(\"Mis-classified by meta-learning model: \", count_nn)\n",
        "\n",
        "print(\"Rate of reduction in misclassification: \", ((rfc_svc_misclassification - count_nn) / rfc_svc_misclassification) * 100, \"%\")\n",
        "#print(count_rfc, count_svc, count_nn)\n",
        "#print(count_rfc + count_svc, count_nn)"
      ],
      "execution_count": 26,
      "outputs": [
        {
          "output_type": "stream",
          "name": "stdout",
          "text": [
            "Mis-classified by RFC:  149\n",
            "Mis-classified by SVC:  80\n",
            "Mis-classification by RFC/SVC:  229\n",
            "Mis-classified by meta-learning model:  88\n",
            "Rate of reduction in misclassification:  61.572052401746724 %\n"
          ]
        }
      ]
    },
    {
      "cell_type": "code",
      "metadata": {
        "id": "KJ5_crPJnMkt"
      },
      "source": [
        ""
      ],
      "execution_count": null,
      "outputs": []
    }
  ]
}